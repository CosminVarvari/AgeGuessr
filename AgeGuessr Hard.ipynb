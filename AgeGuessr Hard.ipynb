{
 "cells": [
  {
   "cell_type": "code",
   "execution_count": 2,
   "id": "966af157-e985-4c04-a842-c95f6f691729",
   "metadata": {},
   "outputs": [
    {
     "name": "stderr",
     "output_type": "stream",
     "text": [
      "100%|████████████████████████████████████████████████████████████████████████| 23708/23708 [00:00<00:00, 270542.83it/s]\n"
     ]
    },
    {
     "name": "stdout",
     "output_type": "stream",
     "text": [
      "Found 18967 validated image filenames.\n",
      "Found 4741 validated image filenames.\n",
      "Epoch 1/10\n"
     ]
    },
    {
     "name": "stderr",
     "output_type": "stream",
     "text": [
      "C:\\Users\\cosmi\\OneDrive\\Desktop\\an4\\licenta\\myenv\\Lib\\site-packages\\keras\\src\\trainers\\data_adapters\\py_dataset_adapter.py:122: UserWarning: Your `PyDataset` class should call `super().__init__(**kwargs)` in its constructor. `**kwargs` can include `workers`, `use_multiprocessing`, `max_queue_size`. Do not pass these arguments to `fit()`, as they will be ignored.\n",
      "  self._warn_if_super_not_called()\n"
     ]
    },
    {
     "name": "stdout",
     "output_type": "stream",
     "text": [
      "\u001b[1m593/593\u001b[0m \u001b[32m━━━━━━━━━━━━━━━━━━━━\u001b[0m\u001b[37m\u001b[0m \u001b[1m1699s\u001b[0m 3s/step - loss: 509.0318 - mae: 17.3100 - val_loss: 382.8159 - val_mae: 15.1002\n",
      "Epoch 2/10\n",
      "\u001b[1m593/593\u001b[0m \u001b[32m━━━━━━━━━━━━━━━━━━━━\u001b[0m\u001b[37m\u001b[0m \u001b[1m1657s\u001b[0m 3s/step - loss: 399.5399 - mae: 15.4290 - val_loss: 378.8488 - val_mae: 15.1555\n",
      "Epoch 3/10\n",
      "\u001b[1m593/593\u001b[0m \u001b[32m━━━━━━━━━━━━━━━━━━━━\u001b[0m\u001b[37m\u001b[0m \u001b[1m1643s\u001b[0m 3s/step - loss: 389.4532 - mae: 15.1939 - val_loss: 376.7659 - val_mae: 14.8148\n",
      "Epoch 4/10\n",
      "\u001b[1m593/593\u001b[0m \u001b[32m━━━━━━━━━━━━━━━━━━━━\u001b[0m\u001b[37m\u001b[0m \u001b[1m1700s\u001b[0m 3s/step - loss: 386.8159 - mae: 15.1483 - val_loss: 385.9794 - val_mae: 15.8888\n",
      "Epoch 5/10\n",
      "\u001b[1m593/593\u001b[0m \u001b[32m━━━━━━━━━━━━━━━━━━━━\u001b[0m\u001b[37m\u001b[0m \u001b[1m1731s\u001b[0m 3s/step - loss: 397.5857 - mae: 15.4364 - val_loss: 366.7676 - val_mae: 14.9996\n",
      "Epoch 6/10\n",
      "\u001b[1m593/593\u001b[0m \u001b[32m━━━━━━━━━━━━━━━━━━━━\u001b[0m\u001b[37m\u001b[0m \u001b[1m1680s\u001b[0m 3s/step - loss: 372.7231 - mae: 14.8874 - val_loss: 368.3130 - val_mae: 15.4501\n",
      "Epoch 7/10\n",
      "\u001b[1m593/593\u001b[0m \u001b[32m━━━━━━━━━━━━━━━━━━━━\u001b[0m\u001b[37m\u001b[0m \u001b[1m1644s\u001b[0m 3s/step - loss: 372.2625 - mae: 14.8690 - val_loss: 354.0509 - val_mae: 14.5498\n",
      "Epoch 8/10\n",
      "\u001b[1m593/593\u001b[0m \u001b[32m━━━━━━━━━━━━━━━━━━━━\u001b[0m\u001b[37m\u001b[0m \u001b[1m1640s\u001b[0m 3s/step - loss: 364.8647 - mae: 14.6981 - val_loss: 346.1296 - val_mae: 14.0571\n",
      "Epoch 9/10\n",
      "\u001b[1m593/593\u001b[0m \u001b[32m━━━━━━━━━━━━━━━━━━━━\u001b[0m\u001b[37m\u001b[0m \u001b[1m1640s\u001b[0m 3s/step - loss: 355.2245 - mae: 14.5410 - val_loss: 334.0876 - val_mae: 14.2222\n",
      "Epoch 10/10\n",
      "\u001b[1m593/593\u001b[0m \u001b[32m━━━━━━━━━━━━━━━━━━━━\u001b[0m\u001b[37m\u001b[0m \u001b[1m1669s\u001b[0m 3s/step - loss: 344.5104 - mae: 14.2640 - val_loss: 321.0002 - val_mae: 13.9571\n",
      "\u001b[1m149/149\u001b[0m \u001b[32m━━━━━━━━━━━━━━━━━━━━\u001b[0m\u001b[37m\u001b[0m \u001b[1m329s\u001b[0m 2s/step - loss: 321.7396 - mae: 13.9234\n"
     ]
    },
    {
     "name": "stderr",
     "output_type": "stream",
     "text": [
      "WARNING:absl:You are saving your model as an HDF5 file via `model.save()` or `keras.saving.save_model(model)`. This file format is considered legacy. We recommend using instead the native Keras format, e.g. `model.save('my_model.keras')` or `keras.saving.save_model(model, 'my_model.keras')`. \n"
     ]
    },
    {
     "name": "stdout",
     "output_type": "stream",
     "text": [
      "Loss: 322.9332275390625, MAE: 13.957143783569336\n",
      "Acuratețea estimată ca procentaj al intervalului tipic de vârstă: 82.55%\n",
      "Modelul a fost salvat cu succes.\n",
      "\u001b[1m1/1\u001b[0m \u001b[32m━━━━━━━━━━━━━━━━━━━━\u001b[0m\u001b[37m\u001b[0m \u001b[1m2s\u001b[0m 2s/step\n",
      "Vârsta estimată este: 37.35746383666992 ani\n"
     ]
    }
   ],
   "source": [
    "import tensorflow as tf\n",
    "from tensorflow.keras.applications import ResNet50\n",
    "from tensorflow.keras.layers import Dense, GlobalAveragePooling2D\n",
    "from tensorflow.keras.models import Model\n",
    "from tensorflow.keras.preprocessing.image import ImageDataGenerator\n",
    "from tensorflow.keras.preprocessing.image import load_img, img_to_array\n",
    "import pandas as pd\n",
    "import os\n",
    "import numpy as np\n",
    "from tqdm import tqdm\n",
    "\n",
    "BASE_DIR = 'UTKFace'\n",
    "age_labels = []\n",
    "image_paths = []\n",
    "\n",
    "image_filenames = os.listdir(BASE_DIR)\n",
    "np.random.shuffle(image_filenames)\n",
    "\n",
    "for image in tqdm(image_filenames):\n",
    "    image_path = os.path.join(BASE_DIR, image)\n",
    "    img_components = image.split('_')\n",
    "    age_label = int(img_components[0])\n",
    "    age_labels.append(age_label)\n",
    "    image_paths.append(image_path)\n",
    "\n",
    "df = pd.DataFrame()\n",
    "df['image_path'], df['age'] = image_paths, age_labels\n",
    "\n",
    "base_model = ResNet50(weights='imagenet', include_top=False, input_shape=(200, 200, 3))\n",
    "\n",
    "x = base_model.output\n",
    "x = GlobalAveragePooling2D()(x)\n",
    "x = Dense(128, activation='relu')(x)\n",
    "predictions = Dense(1)(x)  \n",
    "\n",
    "\n",
    "model = Model(inputs=base_model.input, outputs=predictions)\n",
    "\n",
    "\n",
    "for layer in base_model.layers:\n",
    "    layer.trainable = False\n",
    "\n",
    "model.compile(optimizer=tf.keras.optimizers.Adam(), loss='mean_squared_error', metrics=['mae'])\n",
    "\n",
    "\n",
    "train_datagen = ImageDataGenerator(rescale=1./255, validation_split=0.2)\n",
    "\n",
    "train_generator = train_datagen.flow_from_dataframe(\n",
    "    dataframe=df,\n",
    "    x_col='image_path',\n",
    "    y_col='age',\n",
    "    target_size=(200, 200),\n",
    "    batch_size=32,\n",
    "    color_mode='rgb',  \n",
    "    class_mode='raw',\n",
    "    subset='training'\n",
    ")\n",
    "\n",
    "validation_generator = train_datagen.flow_from_dataframe(\n",
    "    dataframe=df,\n",
    "    x_col='image_path',\n",
    "    y_col='age',\n",
    "    target_size=(200, 200),\n",
    "    batch_size=32,\n",
    "    color_mode='rgb',\n",
    "    class_mode='raw',\n",
    "    subset='validation'\n",
    ")\n",
    "\n",
    "\n",
    "history = model.fit(\n",
    "    train_generator,\n",
    "    validation_data=validation_generator,\n",
    "    epochs=10\n",
    ")\n",
    "\n",
    "loss, mae = model.evaluate(validation_generator)\n",
    "print(f'Loss: {loss}, MAE: {mae}')\n",
    "\n",
    "\n",
    "typical_age_range = 80 \n",
    "accuracy_percentage = (1 - mae / typical_age_range) * 100\n",
    "print(f'Acuratețea estimată ca procentaj al intervalului tipic de vârstă: {accuracy_percentage:.2f}%')\n",
    "\n",
    "\n",
    "model.save('final_resnet_model.h5')\n",
    "print(\"Modelul a fost salvat cu succes.\")\n",
    "\n",
    "\n",
    "def load_and_prepare_image(image_path):\n",
    "    img = load_img(image_path, target_size=(200, 200), color_mode='rgb')\n",
    "    img = img_to_array(img)\n",
    "    img = img / 255.0\n",
    "    img = np.expand_dims(img, axis=0)\n",
    "    return img\n",
    "\n",
    "\n",
    "img = load_and_prepare_image('woman.png')\n",
    "predicted_age = model.predict(img)\n",
    "print(f\"Vârsta estimată este: {predicted_age[0][0]} ani\")\n"
   ]
  },
  {
   "cell_type": "markdown",
   "id": "6cc5368b-67bc-444b-9e6b-39debe71841d",
   "metadata": {},
   "source": []
  },
  {
   "cell_type": "code",
   "execution_count": null,
   "id": "882d70ba-59db-45ff-b292-e183acff0b10",
   "metadata": {},
   "outputs": [],
   "source": []
  }
 ],
 "metadata": {
  "kernelspec": {
   "display_name": "Python 3 (ipykernel)",
   "language": "python",
   "name": "python3"
  },
  "language_info": {
   "codemirror_mode": {
    "name": "ipython",
    "version": 3
   },
   "file_extension": ".py",
   "mimetype": "text/x-python",
   "name": "python",
   "nbconvert_exporter": "python",
   "pygments_lexer": "ipython3",
   "version": "3.11.2"
  }
 },
 "nbformat": 4,
 "nbformat_minor": 5
}
